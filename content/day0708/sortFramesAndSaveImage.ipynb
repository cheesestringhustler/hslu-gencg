{
 "cells": [
  {
   "cell_type": "code",
   "execution_count": 30,
   "metadata": {},
   "outputs": [],
   "source": [
    "import numpy as np\n",
    "from functools import cmp_to_key\n",
    "from PIL import Image\n",
    "import colorsys\n",
    "from pathlib import Path\n",
    "import glob\n",
    "from IPython.display import clear_output\n",
    "import ray\n",
    "import time"
   ]
  },
  {
   "cell_type": "markdown",
   "metadata": {},
   "source": [
    "### Get frames for a certian range of frames and save it in scene"
   ]
  },
  {
   "cell_type": "code",
   "execution_count": 31,
   "metadata": {},
   "outputs": [
    {
     "name": "stdout",
     "output_type": "stream",
     "text": [
      "288 frames found in total\n",
      "0 frames found in scene\n"
     ]
    }
   ],
   "source": [
    "path = \"framesCinematograph/\"\n",
    "startFrame = 70796\n",
    "endFrame = 77094\n",
    "nframes = np.array(glob.glob(path+\"*\"))\n",
    "scene = np.array([])\n",
    "\n",
    "imagePIL = Image.open(nframes[0], \"r\")\n",
    "\n",
    "for e in nframes:\n",
    "    if (int(e.split(\"_\")[1].split(\".\")[0]) >= startFrame and\n",
    "        int(e.split(\"_\")[1].split(\".\")[0]) <= endFrame):\n",
    "        scene = np.append(scene, e)\n",
    "        \n",
    "print(len(nframes), \"frames found in total\")\n",
    "print(len(scene), \"frames found in scene\")"
   ]
  },
  {
   "cell_type": "markdown",
   "metadata": {},
   "source": [
    "#### Sort functions From pixelSort.ipynb"
   ]
  },
  {
   "cell_type": "code",
   "execution_count": 32,
   "metadata": {},
   "outputs": [],
   "source": [
    "# From pixelSort.ipynb\n",
    "def get_image_pixel(imagePIL, resize=\"None\"):\n",
    "    if resize == \"None\":   \n",
    "        return imagePIL, list(imagePIL.getdata())# np.array(imagePIL.getdata()) #list(imagePIL.getdata())\n",
    "    else:\n",
    "        org_size = imagePIL.size\n",
    "        pixelate_lvl = resize\n",
    "        imagePIL = imagePIL.resize(size=(org_size[0] // pixelate_lvl, org_size[1] // pixelate_lvl), resample=0)# imagePIL.resize((resize,resize), resample=Image.BILINEAR)\n",
    "        return imagePIL, np.array(imagePIL.getdata()) # list(imagePIL.getdata())\n",
    "\n",
    "def sortColors(colors, method):\n",
    "    colors = (colors / 255) # colorsys uses 0 - 1 range \n",
    "    hsv_values = np.apply_along_axis(RGBToHSV, axis=1, arr=colors)\n",
    "\n",
    "    if method == \"HUE\":\n",
    "        hsv_values = hsv_values[hsv_values[:, 0].argsort()]\n",
    "    elif method == \"SATURATION\":\n",
    "        hsv_values = hsv_values[hsv_values[:, 1].argsort()]\n",
    "    elif method == \"BRIGHTNESS\":\n",
    "        hsv_values = hsv_values[hsv_values[:, 2].argsort()]\n",
    "        \n",
    "    rgb_values = np.apply_along_axis(HSVToRGB, axis=1, arr=hsv_values)\n",
    "    rgb_values = (rgb_values * 255).astype(int) # convert color range back to 0 - 255\n",
    "    return rgb_values\n",
    "    \n",
    "def RGBToHSV(color):\n",
    "    return colorsys.rgb_to_hsv(color[0], color[1], color[2])\n",
    "   \n",
    "def HSVToRGB(color):\n",
    "    return colorsys.hsv_to_rgb(color[0], color[1], color[2])"
   ]
  },
  {
   "cell_type": "markdown",
   "metadata": {},
   "source": [
    "### sort frames and save to folder"
   ]
  },
  {
   "cell_type": "code",
   "execution_count": 9,
   "metadata": {
    "collapsed": true,
    "jupyter": {
     "outputs_hidden": true
    }
   },
   "outputs": [
    {
     "ename": "KeyboardInterrupt",
     "evalue": "",
     "output_type": "error",
     "traceback": [
      "\u001b[0;31m---------------------------------------------------------------------------\u001b[0m",
      "\u001b[0;31mKeyboardInterrupt\u001b[0m                         Traceback (most recent call last)",
      "\u001b[0;32m<ipython-input-9-a7db0863cd2e>\u001b[0m in \u001b[0;36m<module>\u001b[0;34m\u001b[0m\n\u001b[1;32m     18\u001b[0m         \u001b[0msortedImage\u001b[0m \u001b[0;34m=\u001b[0m \u001b[0msortColors\u001b[0m\u001b[0;34m(\u001b[0m\u001b[0mpixel_values\u001b[0m\u001b[0;34m,\u001b[0m \u001b[0;34m\"HUE\"\u001b[0m\u001b[0;34m)\u001b[0m\u001b[0;34m\u001b[0m\u001b[0;34m\u001b[0m\u001b[0m\n\u001b[1;32m     19\u001b[0m \u001b[0;34m\u001b[0m\u001b[0m\n\u001b[0;32m---> 20\u001b[0;31m         \u001b[0mim\u001b[0m\u001b[0;34m.\u001b[0m\u001b[0mputdata\u001b[0m\u001b[0;34m(\u001b[0m\u001b[0mlist\u001b[0m\u001b[0;34m(\u001b[0m\u001b[0mmap\u001b[0m\u001b[0;34m(\u001b[0m\u001b[0mtuple\u001b[0m\u001b[0;34m,\u001b[0m \u001b[0msortedImage\u001b[0m\u001b[0;34m)\u001b[0m\u001b[0;34m)\u001b[0m\u001b[0;34m)\u001b[0m\u001b[0;34m\u001b[0m\u001b[0;34m\u001b[0m\u001b[0m\n\u001b[0m\u001b[1;32m     21\u001b[0m         \u001b[0mim\u001b[0m\u001b[0;34m.\u001b[0m\u001b[0mresize\u001b[0m\u001b[0;34m(\u001b[0m\u001b[0mimagePIL\u001b[0m\u001b[0;34m.\u001b[0m\u001b[0msize\u001b[0m\u001b[0;34m,\u001b[0m \u001b[0mresample\u001b[0m\u001b[0;34m=\u001b[0m\u001b[0;36m0\u001b[0m\u001b[0;34m)\u001b[0m\u001b[0;34m\u001b[0m\u001b[0;34m\u001b[0m\u001b[0m\n\u001b[1;32m     22\u001b[0m         \u001b[0mim\u001b[0m\u001b[0;34m.\u001b[0m\u001b[0msave\u001b[0m\u001b[0;34m(\u001b[0m\u001b[0mPath\u001b[0m\u001b[0;34m(\u001b[0m\u001b[0mfolder\u001b[0m\u001b[0;34m+\u001b[0m\u001b[0mfilename\u001b[0m\u001b[0;34m)\u001b[0m\u001b[0;34m)\u001b[0m\u001b[0;34m\u001b[0m\u001b[0;34m\u001b[0m\u001b[0m\n",
      "\u001b[0;31mKeyboardInterrupt\u001b[0m: "
     ]
    }
   ],
   "source": [
    "# not using this since it's single core\n",
    "for i, f in enumerate(nframes):\n",
    "    image_path = f\n",
    "    folder = \"framesCinematographSorted/\"\n",
    "    filename = f.split(\"/\")[-1]\n",
    "\n",
    "    localFiles = np.array(glob.glob(folder+\"*\"))\n",
    "    found = False\n",
    "    for item in localFiles:\n",
    "        if item.split(\"/\")[-1] == filename:\n",
    "            found = True\n",
    "            print(i,\": found\")\n",
    "            \n",
    "    if found == False:\n",
    "        imagePIL = Image.open(image_path, \"r\")\n",
    "\n",
    "        im, pixel_values = get_image_pixel(imagePIL, 1)\n",
    "\n",
    "        sortedImage = sortColors(pixel_values, \"HUE\")\n",
    "\n",
    "        im.putdata(list(map(tuple, sortedImage)))\n",
    "        im.resize(imagePIL.size, resample=0)\n",
    "        im.save(Path(folder+filename))\n",
    "        print(i,\": sorted\")\n",
    "        \n",
    "    clear_output(wait=True)"
   ]
  },
  {
   "cell_type": "markdown",
   "metadata": {},
   "source": [
    "### Sort frames parallel"
   ]
  },
  {
   "cell_type": "code",
   "execution_count": 33,
   "metadata": {},
   "outputs": [
    {
     "name": "stdout",
     "output_type": "stream",
     "text": [
      "\u001b[2m\u001b[36m(f pid=8876)\u001b[0m \n",
      "\u001b[2m\u001b[36m(f pid=8866)\u001b[0m \n",
      "\u001b[2m\u001b[36m(f pid=8875)\u001b[0m \n",
      "\u001b[2m\u001b[36m(f pid=8867)\u001b[0m \n",
      "\u001b[2m\u001b[36m(f pid=8869)\u001b[0m \n",
      "\u001b[2m\u001b[36m(f pid=8876)\u001b[0m \n",
      "--- took 1884.1740047931671 seconds ---\n"
     ]
    }
   ],
   "source": [
    "ray.shutdown()\n",
    "ray.init()\n",
    "\n",
    "start_time = time.time()\n",
    "\n",
    "@ray.remote\n",
    "def f(x):\n",
    "    image_path = nframes[x]\n",
    "    imagePIL = Image.open(image_path, \"r\")\n",
    "\n",
    "    im, pixel_values = get_image_pixel(imagePIL, 1)\n",
    "\n",
    "    sortedImage = sortColors(pixel_values, \"HUE\")\n",
    "    \n",
    "    return sortedImage\n",
    "\n",
    "# Start range() tasks in parallel.\n",
    "result_ids = []\n",
    "for i in range(len(nframes)):\n",
    "    result_ids.append(f.remote(i))\n",
    "    \n",
    "# Wait for the tasks to complete and retrieve the results.\n",
    "results = ray.get(result_ids)  # [0, 1, 2, 3]\n",
    "print(\"--- took %s seconds ---\" % (time.time() - start_time))"
   ]
  },
  {
   "cell_type": "code",
   "execution_count": 34,
   "metadata": {
    "collapsed": true,
    "jupyter": {
     "outputs_hidden": true
    }
   },
   "outputs": [
    {
     "name": "stdout",
     "output_type": "stream",
     "text": [
      "288\n"
     ]
    },
    {
     "name": "stderr",
     "output_type": "stream",
     "text": [
      "<ipython-input-34-c065cb26fb9b>:2: VisibleDeprecationWarning: Creating an ndarray from ragged nested sequences (which is a list-or-tuple of lists-or-tuples-or ndarrays with different lengths or shapes) is deprecated. If you meant to do this, you must specify 'dtype=object' when creating the ndarray\n",
      "  nr = np.array(results)\n"
     ]
    }
   ],
   "source": [
    "print(len(results))\n",
    "nr = np.array(results)\n",
    "np.save('gridMatrixPixels.npy', nr)"
   ]
  },
  {
   "cell_type": "markdown",
   "metadata": {},
   "source": [
    "### save frames to folder"
   ]
  },
  {
   "cell_type": "code",
   "execution_count": 38,
   "metadata": {},
   "outputs": [
    {
     "name": "stderr",
     "output_type": "stream",
     "text": [
      "<ipython-input-38-6de2f28cc927>:1: VisibleDeprecationWarning: Creating an ndarray from ragged nested sequences (which is a list-or-tuple of lists-or-tuples-or ndarrays with different lengths or shapes) is deprecated. If you meant to do this, you must specify 'dtype=object' when creating the ndarray\n",
      "  nr = np.array(results)\n"
     ]
    }
   ],
   "source": [
    "nr = np.array(results)\n",
    "folder = \"framesCinematographSorted/\"\n",
    "im = Image.new(\"RGB\", imagePIL.size, (255, 255, 255))\n",
    "\n",
    "for i, n in enumerate(nr):\n",
    "    filename = \"m_\"+str(i).zfill(4)+\".jpg\"\n",
    "    im.putdata(list(map(tuple, n)))\n",
    "    im.save(Path(folder+filename))"
   ]
  },
  {
   "cell_type": "code",
   "execution_count": null,
   "metadata": {},
   "outputs": [],
   "source": []
  }
 ],
 "metadata": {
  "kernelspec": {
   "display_name": "datascience",
   "language": "python",
   "name": "datascience"
  },
  "language_info": {
   "codemirror_mode": {
    "name": "ipython",
    "version": 3
   },
   "file_extension": ".py",
   "mimetype": "text/x-python",
   "name": "python",
   "nbconvert_exporter": "python",
   "pygments_lexer": "ipython3",
   "version": "3.8.3"
  }
 },
 "nbformat": 4,
 "nbformat_minor": 4
}
