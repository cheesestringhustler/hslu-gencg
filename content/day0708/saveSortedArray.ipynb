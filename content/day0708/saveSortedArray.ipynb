{
 "cells": [
  {
   "cell_type": "code",
   "execution_count": 22,
   "metadata": {},
   "outputs": [],
   "source": [
    "import numpy as np\n",
    "from PIL import Image\n",
    "import colorsys\n",
    "from pathlib import Path\n",
    "import glob\n",
    "import ray\n",
    "import time"
   ]
  },
  {
   "cell_type": "code",
   "execution_count": 23,
   "metadata": {
    "jupyter": {
     "source_hidden": true
    }
   },
   "outputs": [],
   "source": [
    "# From pixelSort.ipynb\n",
    "def get_image_pixel(imagePIL, resize=\"None\"):\n",
    "    if resize == \"None\":   \n",
    "        return imagePIL, list(imagePIL.getdata())# np.array(imagePIL.getdata()) #list(imagePIL.getdata())\n",
    "    else:\n",
    "        org_size = imagePIL.size\n",
    "        pixelate_lvl = resize\n",
    "        imagePIL = imagePIL.resize(size=(org_size[0] // pixelate_lvl, org_size[1] // pixelate_lvl), resample=0)# imagePIL.resize((resize,resize), resample=Image.BILINEAR)\n",
    "        return imagePIL, np.array(imagePIL.getdata()) # list(imagePIL.getdata())\n",
    "\n",
    "def sortColors(colors, method):\n",
    "    colors = (colors / 255) # colorsys uses 0 - 1 range \n",
    "    hsv_values = np.apply_along_axis(RGBToHSV, axis=1, arr=colors)\n",
    "\n",
    "    if method == \"HUE\":\n",
    "        hsv_values = hsv_values[hsv_values[:, 0].argsort()]\n",
    "    elif method == \"SATURATION\":\n",
    "        hsv_values = hsv_values[hsv_values[:, 1].argsort()]\n",
    "    elif method == \"BRIGHTNESS\":\n",
    "        hsv_values = hsv_values[hsv_values[:, 2].argsort()]\n",
    "        \n",
    "    rgb_values = np.apply_along_axis(HSVToRGB, axis=1, arr=hsv_values)\n",
    "    rgb_values = (rgb_values * 255).astype(int) # convert color range back to 0 - 255\n",
    "    return rgb_values\n",
    "    \n",
    "def RGBToHSV(color):\n",
    "    return colorsys.rgb_to_hsv(color[0], color[1], color[2])\n",
    "   \n",
    "def HSVToRGB(color):\n",
    "    return colorsys.hsv_to_rgb(color[0], color[1], color[2])"
   ]
  },
  {
   "cell_type": "markdown",
   "metadata": {},
   "source": [
    "### Get frames for a certian range of frames and save it in scene"
   ]
  },
  {
   "cell_type": "code",
   "execution_count": 28,
   "metadata": {},
   "outputs": [
    {
     "name": "stdout",
     "output_type": "stream",
     "text": [
      "196071 frames found in total\n",
      "6299 frames found in scene\n"
     ]
    }
   ],
   "source": [
    "path = \"frames256p/\"\n",
    "startFrame = 70796\n",
    "endFrame = 77094 #196071\n",
    "nframes = np.array(glob.glob(path+\"*\"))\n",
    "scene = np.array([])\n",
    "\n",
    "for e in nframes:\n",
    "    if (int(e.split(\"_\")[1].split(\".\")[0]) >= startFrame and\n",
    "        int(e.split(\"_\")[1].split(\".\")[0]) <= endFrame):\n",
    "        scene = np.append(scene, e)\n",
    "   \n",
    "print(len(nframes), \"frames found in total\")\n",
    "print(len(scene), \"frames found in scene\")"
   ]
  },
  {
   "cell_type": "markdown",
   "metadata": {},
   "source": [
    "### Parallel process all frames in array"
   ]
  },
  {
   "cell_type": "code",
   "execution_count": 8,
   "metadata": {},
   "outputs": [
    {
     "name": "stdout",
     "output_type": "stream",
     "text": [
      "\u001b[2m\u001b[36m(f pid=6712)\u001b[0m \n",
      "--- took 397.466933965683 seconds ---\n"
     ]
    }
   ],
   "source": [
    "ray.shutdown()\n",
    "ray.init()\n",
    "\n",
    "start_time = time.time()\n",
    "\n",
    "@ray.remote\n",
    "def f(x):\n",
    "    image_path = scene[x]\n",
    "    imagePIL = Image.open(image_path, \"r\")\n",
    "\n",
    "    im, pixel_values = get_image_pixel(imagePIL, 1)\n",
    "\n",
    "    sortedImage = sortColors(pixel_values, \"HUE\")\n",
    "    \n",
    "    return sortedImage\n",
    "\n",
    "# Start range() tasks in parallel.\n",
    "result_ids = []\n",
    "for i in range(len(scene)):\n",
    "    result_ids.append(f.remote(i))\n",
    "    \n",
    "# Wait for the tasks to complete and retrieve the results.\n",
    "results = ray.get(result_ids)  # [0, 1, 2, 3]\n",
    "print(\"--- took %s seconds ---\" % (time.time() - start_time))"
   ]
  },
  {
   "cell_type": "code",
   "execution_count": 9,
   "metadata": {},
   "outputs": [
    {
     "data": {
      "text/plain": [
       "6298"
      ]
     },
     "execution_count": 9,
     "metadata": {},
     "output_type": "execute_result"
    }
   ],
   "source": [
    "len(results)"
   ]
  },
  {
   "cell_type": "markdown",
   "metadata": {},
   "source": [
    "### save array"
   ]
  },
  {
   "cell_type": "code",
   "execution_count": 19,
   "metadata": {},
   "outputs": [],
   "source": [
    "nr = np.array(results)"
   ]
  },
  {
   "cell_type": "code",
   "execution_count": 20,
   "metadata": {},
   "outputs": [],
   "source": [
    "np.save('sortedPixels.npy', nr)"
   ]
  }
 ],
 "metadata": {
  "kernelspec": {
   "display_name": "datascience",
   "language": "python",
   "name": "datascience"
  },
  "language_info": {
   "codemirror_mode": {
    "name": "ipython",
    "version": 3
   },
   "file_extension": ".py",
   "mimetype": "text/x-python",
   "name": "python",
   "nbconvert_exporter": "python",
   "pygments_lexer": "ipython3",
   "version": "3.8.3"
  }
 },
 "nbformat": 4,
 "nbformat_minor": 4
}
